{
 "cells": [
  {
   "cell_type": "markdown",
   "metadata": {},
   "source": [
    "# Analysising the results of the TDA experiment"
   ]
  },
  {
   "cell_type": "markdown",
   "metadata": {},
   "source": [
    "How did the TDA experiment go for the initial run? For this I varied the following three parameters:\n",
    "\n",
    "1. The number of samples considered.\n",
    "2. Whether or not the labels were appended as a multiset of integer labels or as a one hot vector.\n",
    "3. Random seed for the subset of the dataset considered.\n",
    "\n",
    "Here I'll plot the mean spearman's rank between the metric order and the original order (averaged over the different seeds) against the number of samples."
   ]
  },
  {
   "cell_type": "code",
   "execution_count": 32,
   "metadata": {},
   "outputs": [],
   "source": [
    "from locomoset.plots.utils import load_results\n",
    "import matplotlib.pyplot as plt\n",
    "from matplotlib.axes import Axes\n",
    "import yaml\n",
    "from scipy.stats import spearmanr as spr\n",
    "import numpy as np"
   ]
  },
  {
   "cell_type": "code",
   "execution_count": 8,
   "metadata": {},
   "outputs": [],
   "source": [
    "# load the actual scores:\n",
    "with open('../configs/scores_imagenet1k.yaml', 'r') as f:\n",
    "    actuals = yaml.safe_load(f)"
   ]
  },
  {
   "cell_type": "code",
   "execution_count": 9,
   "metadata": {},
   "outputs": [
    {
     "data": {
      "text/plain": [
       "{'facebook/deit-tiny-patch16-224': 72.2,\n",
       " 'facebook/deit-small-patch16-224': 79.9,\n",
       " 'facebook/deit-base-patch16-224': 81.8,\n",
       " 'google/vit-base-patch16-384': 85.49,\n",
       " 'microsoft/cvt-13': 81.6}"
      ]
     },
     "execution_count": 9,
     "metadata": {},
     "output_type": "execute_result"
    }
   ],
   "source": [
    "actuals"
   ]
  },
  {
   "cell_type": "code",
   "execution_count": 13,
   "metadata": {},
   "outputs": [],
   "source": [
    "# What does loading several results dictionaries look like?\n",
    "results = load_results(file_paths=['../results_wp2/'])"
   ]
  },
  {
   "cell_type": "code",
   "execution_count": 22,
   "metadata": {},
   "outputs": [
    {
     "data": {
      "text/plain": [
       "34"
      ]
     },
     "execution_count": 22,
     "metadata": {},
     "output_type": "execute_result"
    }
   ],
   "source": [
    "len(results[0])"
   ]
  },
  {
   "cell_type": "code",
   "execution_count": 23,
   "metadata": {},
   "outputs": [
    {
     "data": {
      "text/plain": [
       "{'save_dir': 'results_wp2',\n",
       " 'models': ['facebook/deit-tiny-patch16-224',\n",
       "  'facebook/deit-small-patch16-224',\n",
       "  'facebook/deit-base-patch16-224',\n",
       "  'microsoft/cvt-13',\n",
       "  'google/vit-base-patch16-384'],\n",
       " 'dataset_name': 'imagenet-1k',\n",
       " 'dataset_split': 'validation',\n",
       " 'n_examples': 2048,\n",
       " 'random_state': 42,\n",
       " 'one_hot_labels': False,\n",
       " 'model_features': False,\n",
       " 'pixel_square': 224,\n",
       " 'result': {'results': {'facebook/deit-tiny-patch16-224': 11368.685605910974,\n",
       "   'facebook/deit-small-patch16-224': 0.0,\n",
       "   'facebook/deit-base-patch16-224': 0.0,\n",
       "   'microsoft/cvt-13': 0.0,\n",
       "   'google/vit-base-patch16-384': 0.0},\n",
       "  'time': 3342.6428689956665}}"
      ]
     },
     "execution_count": 23,
     "metadata": {},
     "output_type": "execute_result"
    }
   ],
   "source": [
    "results[0][0]"
   ]
  },
  {
   "cell_type": "code",
   "execution_count": 35,
   "metadata": {},
   "outputs": [
    {
     "name": "stdout",
     "output_type": "stream",
     "text": [
      "[11368.68560591     0.             0.             0.\n",
      "     0.        ]\n",
      "[72.2  79.9  81.8  85.49 81.6 ]\n"
     ]
    }
   ],
   "source": [
    "# test correlation:\n",
    "ex_results = np.array(list(results[0][0]['result']['results'].values()))\n",
    "print(ex_results)\n",
    "act_vals = np.array(list(actuals.values()))\n",
    "print(act_vals)"
   ]
  },
  {
   "cell_type": "code",
   "execution_count": 41,
   "metadata": {},
   "outputs": [
    {
     "name": "stdout",
     "output_type": "stream",
     "text": [
      "spearmans rank correlations between \n",
      " example result and actuals: -0.7071067811865475\n"
     ]
    }
   ],
   "source": [
    "print(f'spearmans rank correlations between \\n example result and actuals: {spr(act_vals, ex_results)[0]}')"
   ]
  },
  {
   "cell_type": "markdown",
   "metadata": {},
   "source": [
    "So as expected this is not well correlated so far."
   ]
  },
  {
   "cell_type": "code",
   "execution_count": 47,
   "metadata": {},
   "outputs": [],
   "source": [
    "def digest_result(result_dict, actual_vals):\n",
    "    res_vals = np.array(list(result_dict['result']['results'].values()))\n",
    "    act_vals = np.array(list(actual_vals.values()))\n",
    "    return {\n",
    "        'n_examples': result_dict['n_examples'],\n",
    "        'one_hot_labels': result_dict['one_hot_labels'],\n",
    "        'correlation': spr(act_vals, res_vals)[0]\n",
    "        }"
   ]
  },
  {
   "cell_type": "code",
   "execution_count": 43,
   "metadata": {},
   "outputs": [],
   "source": [
    "n_examples = [128, 256, 512, 1024, 2048, 4096]"
   ]
  },
  {
   "cell_type": "code",
   "execution_count": 46,
   "metadata": {},
   "outputs": [],
   "source": [
    "labels_res = {n: [] for n in n_examples}\n",
    "one_hot_res = {n : [] for n in n_examples}"
   ]
  },
  {
   "cell_type": "code",
   "execution_count": 49,
   "metadata": {},
   "outputs": [
    {
     "name": "stderr",
     "output_type": "stream",
     "text": [
      "/Users/edable-heath/Library/Caches/pypoetry/virtualenvs/locomoset-yXOa9fJX-py3.10/lib/python3.10/site-packages/scipy/stats/_stats_py.py:4881: ConstantInputWarning: An input array is constant; the correlation coefficient is not defined.\n",
      "  warnings.warn(stats.ConstantInputWarning(warn_msg))\n"
     ]
    }
   ],
   "source": [
    "for res_dict in results[0]:\n",
    "    digested_res = digest_result(res_dict, actuals)\n",
    "    if digested_res['one_hot_labels']:\n",
    "        one_hot_res[digested_res['n_examples']].append(digested_res['correlation'])\n",
    "    else:\n",
    "        labels_res[digested_res['n_examples']].append(digested_res['correlation'])"
   ]
  },
  {
   "cell_type": "code",
   "execution_count": 50,
   "metadata": {},
   "outputs": [
    {
     "data": {
      "text/plain": [
       "{128: [nan, nan, nan],\n",
       " 256: [nan, nan, nan],\n",
       " 512: [nan, -0.7071067811865475, nan],\n",
       " 1024: [-0.7071067811865475, nan, nan],\n",
       " 2048: [-0.7071067811865475, -0.7071067811865475, nan],\n",
       " 4096: [-0.7071067811865475, -0.7071067811865475]}"
      ]
     },
     "execution_count": 50,
     "metadata": {},
     "output_type": "execute_result"
    }
   ],
   "source": [
    "labels_res"
   ]
  },
  {
   "cell_type": "code",
   "execution_count": null,
   "metadata": {},
   "outputs": [],
   "source": []
  }
 ],
 "metadata": {
  "kernelspec": {
   "display_name": "locomoset-yXOa9fJX-py3.10",
   "language": "python",
   "name": "python3"
  },
  "language_info": {
   "codemirror_mode": {
    "name": "ipython",
    "version": 3
   },
   "file_extension": ".py",
   "mimetype": "text/x-python",
   "name": "python",
   "nbconvert_exporter": "python",
   "pygments_lexer": "ipython3",
   "version": "3.10.12"
  },
  "orig_nbformat": 4
 },
 "nbformat": 4,
 "nbformat_minor": 2
}
