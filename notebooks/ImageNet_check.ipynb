{
 "cells": [
  {
   "cell_type": "markdown",
   "metadata": {},
   "source": [
    "# ImageNet Sanity Check for the task-agnostic metric"
   ]
  },
  {
   "cell_type": "markdown",
   "metadata": {},
   "source": [
    "Check that the number of parameters returns the same order of Imagenet performance."
   ]
  },
  {
   "cell_type": "code",
   "execution_count": 8,
   "metadata": {},
   "outputs": [],
   "source": [
    "import yaml\n",
    "from scipy.stats import spearmanr as spr\n",
    "from transformers import AutoModelForImageClassification\n",
    "\n",
    "from locomoset.metrics.task_agnostic import num_params_metric"
   ]
  },
  {
   "cell_type": "code",
   "execution_count": 3,
   "metadata": {},
   "outputs": [],
   "source": [
    "with open(\"../configs/scores_imagenet1k.yaml\", \"r\") as f:\n",
    "    actuals = yaml.safe_load(f)"
   ]
  },
  {
   "cell_type": "code",
   "execution_count": 4,
   "metadata": {},
   "outputs": [
    {
     "data": {
      "text/plain": [
       "{'facebook/deit-tiny-patch16-224': 72.2,\n",
       " 'facebook/deit-small-patch16-224': 79.9,\n",
       " 'facebook/deit-base-patch16-224': 81.8,\n",
       " 'google/vit-base-patch16-384': 85.49,\n",
       " 'microsoft/cvt-13': 81.6}"
      ]
     },
     "execution_count": 4,
     "metadata": {},
     "output_type": "execute_result"
    }
   ],
   "source": [
    "actuals"
   ]
  },
  {
   "cell_type": "code",
   "execution_count": 5,
   "metadata": {},
   "outputs": [],
   "source": [
    "num_params = {}"
   ]
  },
  {
   "cell_type": "code",
   "execution_count": 6,
   "metadata": {},
   "outputs": [],
   "source": [
    "for model_name in actuals.keys():\n",
    "    model = AutoModelForImageClassification.from_pretrained(model_name)\n",
    "    num_params[model_name] = num_params_metric(model)"
   ]
  },
  {
   "cell_type": "code",
   "execution_count": 7,
   "metadata": {},
   "outputs": [
    {
     "data": {
      "text/plain": [
       "{'facebook/deit-tiny-patch16-224': 5717416,\n",
       " 'facebook/deit-small-patch16-224': 22050664,\n",
       " 'facebook/deit-base-patch16-224': 86567656,\n",
       " 'google/vit-base-patch16-384': 86859496,\n",
       " 'microsoft/cvt-13': 19997480}"
      ]
     },
     "execution_count": 7,
     "metadata": {},
     "output_type": "execute_result"
    }
   ],
   "source": [
    "num_params"
   ]
  },
  {
   "cell_type": "code",
   "execution_count": 11,
   "metadata": {},
   "outputs": [
    {
     "data": {
      "text/plain": [
       "SpearmanrResult(correlation=0.8999999999999998, pvalue=0.03738607346849875)"
      ]
     },
     "execution_count": 11,
     "metadata": {},
     "output_type": "execute_result"
    }
   ],
   "source": [
    "spr(a=list(actuals.values()), b=list(num_params.values()))"
   ]
  },
  {
   "cell_type": "code",
   "execution_count": null,
   "metadata": {},
   "outputs": [],
   "source": []
  }
 ],
 "metadata": {
  "kernelspec": {
   "display_name": "locomoset-yXOa9fJX-py3.10",
   "language": "python",
   "name": "python3"
  },
  "language_info": {
   "codemirror_mode": {
    "name": "ipython",
    "version": 3
   },
   "file_extension": ".py",
   "mimetype": "text/x-python",
   "name": "python",
   "nbconvert_exporter": "python",
   "pygments_lexer": "ipython3",
   "version": "3.10.12"
  },
  "orig_nbformat": 4
 },
 "nbformat": 4,
 "nbformat_minor": 2
}
